{
 "cells": [
  {
   "cell_type": "code",
   "execution_count": 2,
   "id": "720d1946",
   "metadata": {},
   "outputs": [
    {
     "name": "stdout",
     "output_type": "stream",
     "text": [
      "enter number6\n",
      "enter number0\n"
     ]
    }
   ],
   "source": [
    "a = input(\"enter number\")\n",
    "b = input(\"enter number\")"
   ]
  },
  {
   "cell_type": "code",
   "execution_count": 2,
   "id": "b289aa25",
   "metadata": {},
   "outputs": [
    {
     "ename": "SyntaxError",
     "evalue": "invalid syntax (Temp/ipykernel_12504/2122675243.py, line 12)",
     "output_type": "error",
     "traceback": [
      "\u001b[1;36m  File \u001b[1;32m\"C:\\Users\\Asus\\AppData\\Local\\Temp/ipykernel_12504/2122675243.py\"\u001b[1;36m, line \u001b[1;32m12\u001b[0m\n\u001b[1;33m    except:\u001b[0m\n\u001b[1;37m    ^\u001b[0m\n\u001b[1;31mSyntaxError\u001b[0m\u001b[1;31m:\u001b[0m invalid syntax\n"
     ]
    }
   ],
   "source": [
    "try:\n",
    "    a = int(input(\"enter any number\"))\n",
    "    b = int(input(\"enter any number\"))\n",
    "    c = a/b\n",
    "    print(c)\n",
    "except:\n",
    "    print(\"entering except\")\n",
    "    try:\n",
    "        a = int(input(\"enter any number\"))\n",
    "        b = int(input(\"enter any number\"))\n",
    "        c = a/b\n",
    "        except:\n",
    "            print('still input is wrong')\n",
    "        else:\n",
    "            print(c)\n",
    "else:\n",
    "    print(f\"The final result is: {s3}\")\n",
    "finally:\n",
    "    print(f\"Code executed completely\")\n",
    "\n",
    "    "
   ]
  },
  {
   "cell_type": "code",
   "execution_count": null,
   "id": "55a0c892",
   "metadata": {},
   "outputs": [],
   "source": []
  },
  {
   "cell_type": "code",
   "execution_count": null,
   "id": "702d32ca",
   "metadata": {},
   "outputs": [],
   "source": [
    "try:\n",
    "    s1 = int(input(\"Enter 1st digit: \"))\n",
    "    s2 = int(input(\"Enter 2nd digit: \"))\n",
    "    s3 = s1/s2\n",
    "    print(s3)\n",
    "except:\n",
    "    print(\"ENtering except block\")\n",
    "    try:\n",
    "        s1 = int(input(\"Enter 1st digit: \"))\n",
    "        s2 = int(input(\"Enter 2nd digit: \"))\n",
    "        s3 = s1/s2\n",
    "    except:\n",
    "        print(\"Still the wrong input\")\n",
    "    else:\n",
    "        print(s3)\n",
    "else:\n",
    "    print(f\"The final result is: {s3}\")\n",
    "finally:\n",
    "    print(f\"Code executed completely\")\n"
   ]
  },
  {
   "cell_type": "code",
   "execution_count": null,
   "id": "80601b3e",
   "metadata": {},
   "outputs": [],
   "source": [
    "while True:\n",
    "    try:\n",
    "        s1 = int(input(\"Enter 1st digit: \"))\n",
    "        s2 = int(input(\"Enter 2nd digit: \"))\n",
    "        s3 = s1/s2\n",
    "        print(s3)\n",
    "    except:\n",
    "        print(\"ENtering except block\")\n",
    "        print(\"please enter valid numbers now\")\n",
    "        try:\n",
    "            s1 = int(input(\"Enter 1st digit: \"))\n",
    "            s2 = int(input(\"Enter 2nd digit: \"))\n",
    "            s3 = s1/s2\n",
    "            print(s3)\n",
    "        except:\n",
    "            print(\"something!!!\")  \n",
    "    else:\n",
    "        print(f\"The final result is: {s3}\")\n",
    "        break\n",
    "    finally:\n",
    "        print(f\"Code executed completely\")\n"
   ]
  },
  {
   "cell_type": "code",
   "execution_count": null,
   "id": "91276c50",
   "metadata": {},
   "outputs": [],
   "source": []
  },
  {
   "cell_type": "code",
   "execution_count": null,
   "id": "f861513b",
   "metadata": {},
   "outputs": [],
   "source": []
  },
  {
   "cell_type": "code",
   "execution_count": null,
   "id": "c76ac018",
   "metadata": {},
   "outputs": [],
   "source": []
  },
  {
   "cell_type": "code",
   "execution_count": null,
   "id": "25d88b77",
   "metadata": {},
   "outputs": [],
   "source": []
  },
  {
   "cell_type": "code",
   "execution_count": null,
   "id": "865db94f",
   "metadata": {},
   "outputs": [],
   "source": []
  },
  {
   "cell_type": "code",
   "execution_count": null,
   "id": "424b7eab",
   "metadata": {},
   "outputs": [],
   "source": []
  },
  {
   "cell_type": "code",
   "execution_count": null,
   "id": "6732853c",
   "metadata": {},
   "outputs": [],
   "source": []
  }
 ],
 "metadata": {
  "kernelspec": {
   "display_name": "Python 3 (ipykernel)",
   "language": "python",
   "name": "python3"
  },
  "language_info": {
   "codemirror_mode": {
    "name": "ipython",
    "version": 3
   },
   "file_extension": ".py",
   "mimetype": "text/x-python",
   "name": "python",
   "nbconvert_exporter": "python",
   "pygments_lexer": "ipython3",
   "version": "3.10.1"
  }
 },
 "nbformat": 4,
 "nbformat_minor": 5
}
